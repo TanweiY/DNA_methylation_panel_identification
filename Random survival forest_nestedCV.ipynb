{
 "cells": [
  {
   "cell_type": "code",
   "execution_count": 1,
   "id": "c104e2ef-4b08-4e9a-8a52-85c60ee211fc",
   "metadata": {},
   "outputs": [],
   "source": [
    "import numpy as np\n",
    "import pandas as pd\n",
    "from functools import reduce\n",
    "from sksurv.metrics import (\n",
    "    concordance_index_censored,\n",
    "    concordance_index_ipcw,\n",
    "    cumulative_dynamic_auc,\n",
    "    integrated_brier_score,\n",
    "    brier_score,\n",
    "    as_concordance_index_ipcw_scorer,\n",
    "    as_cumulative_dynamic_auc_scorer,\n",
    "    as_integrated_brier_score_scorer,\n",
    ")\n",
    "\n",
    "from sklearn.model_selection import KFold\n",
    "from skopt import BayesSearchCV\n",
    "from skopt.space import Real, Categorical, Integer\n",
    "\n",
    "from sksurv.preprocessing import encode_categorical\n",
    "from sksurv.ensemble import RandomSurvivalForest\n",
    "from sksurv.util import Surv\n",
    "\n",
    "import random as rn\n",
    "import os\n",
    "# set random seed\n",
    "SEED = 0\n",
    "np.random.seed(SEED)\n",
    "rn.seed(SEED)\n",
    "os.environ['PYTHONHASHSEED'] = '0'"
   ]
  },
  {
   "cell_type": "code",
   "execution_count": 2,
   "id": "2f6c2735-1b6a-4f40-aba7-e5fba336501e",
   "metadata": {},
   "outputs": [
    {
     "name": "stderr",
     "output_type": "stream",
     "text": [
      "/omics/odcf/analysis/OE0167_projects/dachs_genetic_data_platform/Jupyter/ml_surv/lib/python3.10/site-packages/sksurv/column.py:137: FutureWarning: iteritems is deprecated and will be removed in a future version. Use .items instead.\n",
      "  columns_to_encode = {nam for nam, s in table.iteritems() if _is_categorical_or_object(s)}\n",
      "/omics/odcf/analysis/OE0167_projects/dachs_genetic_data_platform/Jupyter/ml_surv/lib/python3.10/site-packages/sksurv/column.py:142: FutureWarning: iteritems is deprecated and will be removed in a future version. Use .items instead.\n",
      "  for name, series in table.iteritems():\n"
     ]
    }
   ],
   "source": [
    "# load data\n",
    "df = pd.read_csv('/omics/odcf/analysis/OE0167_projects/dachs_genetic_data_platform/methylation_markers_new/processed_new/df_selectedf.csv')\n",
    "\n",
    "# select the x, and y variables \n",
    "X = df.drop(['id', 'Diagnosis_year', 'chemradther', 'timey', 'death_all', 'Location',\n",
    "               'timey_PFS', 'PFS'], axis=1)\n",
    "               \n",
    "Y = df[['timey_PFS', 'PFS']]\n",
    "y_structured = Surv.from_arrays(Y['PFS'], Y['timey_PFS'])\n",
    "\n",
    "X_processed = encode_categorical(X)"
   ]
  },
  {
   "cell_type": "code",
   "execution_count": 5,
   "id": "d14b4526-ae43-4910-9e27-f5e95a952efd",
   "metadata": {
    "tags": []
   },
   "outputs": [],
   "source": [
    "## determine the tunning space\n",
    "param_space = {\n",
    " \"estimator__n_estimators\": Integer(100,1000),\n",
    " \"estimator__min_samples_split\": Integer(6,20),\n",
    " \"estimator__min_samples_leaf\": Integer(2,10),\n",
    " \"estimator__max_features\": Categorical(['auto', 'sqrt', 'log2']),  \n",
    "      \n",
    "}     "
   ]
  },
  {
   "cell_type": "code",
   "execution_count": null,
   "id": "930f0cd9-8a57-432c-8cda-f942b612a0d0",
   "metadata": {
    "tags": []
   },
   "outputs": [],
   "source": [
    "n_folds_outer = 5\n",
    "n_folds_inner = 3\n",
    "cv_outer = KFold(n_splits=n_folds_outer, shuffle=True, random_state=SEED)\n",
    "c_index_censored_scores= []\n",
    "c_index_ipcw_scores = []\n",
    "mean_dynamic_AUC = []\n",
    "integrated_brier_scores = []\n",
    "best_hyperparameters = []\n",
    "\n",
    "for train_index, test_index in cv_outer.split(X_processed):\n",
    "    X_train, X_test = X_processed.iloc[train_index], X_processed.iloc[test_index]\n",
    "    y_train, y_test = y_structured[train_index], y_structured[test_index]\n",
    "    \n",
    "    lower, upper = np.percentile(y_test[\"time\"], [10, 90])\n",
    "    model_times = np.arange(lower, 15)\n",
    "      \n",
    "    # configure inner CV for tunning\n",
    "    cv_inner = KFold(n_splits = n_folds_inner, shuffle = True, random_state = SEED)\n",
    "     \n",
    "    # define the model\n",
    "    model =  RandomSurvivalForest(random_state=SEED, n_jobs = -1)\n",
    "\n",
    "    # define tuning and search\n",
    "    search = BayesSearchCV(as_integrated_brier_score_scorer(model, times=model_times), \n",
    "                          param_space, cv=cv_inner, n_jobs = -1, n_iter = 100, random_state=SEED)\n",
    "      \n",
    "    result = search.fit(X_train, y_train)  \n",
    "    best_model = result.best_estimator_.estimator_ \n",
    "  \n",
    "   ## store the best hyperparameters\n",
    "    best_hyperparameters.append(result.best_params_)\n",
    "\n",
    "   # evaluate the best model on the hold out dataset\n",
    "      \n",
    "    yhat = best_model.predict(X_test)   \n",
    "   \n",
    "    c_index_censored = concordance_index_censored(y_test['event'], y_test['time'], yhat)[0]\n",
    "    c_index_censored_scores.append(c_index_censored)\n",
    "\n",
    "    c_index_ipcw = concordance_index_ipcw(y_train, y_test, yhat)[0]\n",
    "    c_index_ipcw_scores.append(c_index_ipcw)\n",
    "\n",
    "    dauc = cumulative_dynamic_auc(y_train, y_test, yhat, model_times)\n",
    "    mean_dynamic_AUC.append(dauc[-1])\n",
    "\n",
    "    survs = best_model.predict_survival_function(X_test)\n",
    "    preds = np.asarray([[fn(t) for t in model_times] for fn in survs])  \n",
    "    brier_score_val = integrated_brier_score(y_train, y_test, preds, model_times)\n",
    "    integrated_brier_scores.append(brier_score_val)   \n",
    "    "
   ]
  },
  {
   "cell_type": "code",
   "execution_count": null,
   "id": "b895aa02-afed-4781-b5db-f39b61465740",
   "metadata": {},
   "outputs": [],
   "source": [
    "## bind the best hyperparameters and performance \n",
    "folds = list(range(1, n_folds_outer+1))\n",
    "performance_nestedcv = pd.DataFrame({\n",
    "      'Folds' : folds,\n",
    "       'Hyperparameters': best_hyperparameters,\n",
    "       'C_index_censored': c_index_censored_scores,\n",
    "      'C_index_ipcw': c_index_ipcw_scores,\n",
    "       'Mean dynamic AUC': mean_dynamic_AUC,\n",
    "      'Integrated Brier score': integrated_brier_scores})\n",
    "performance_nestedcv\n",
    "performance_nestedcv.to_csv('/omics/odcf/analysis/OE0167_projects/dachs_genetic_data_platform/methylation_markers_new/MS_tem_results/nestedcvRFS_performance.csv')\n",
    "\n"
   ]
  },
  {
   "cell_type": "markdown",
   "id": "a62d81e9-520f-4df9-b13e-e901f5f46a70",
   "metadata": {},
   "source": [
    "submit the above jobs to DKFZ cluster"
   ]
  }
 ],
 "metadata": {
  "kernelspec": {
   "display_name": "ml_surv",
   "language": "python",
   "name": "ml_surv"
  },
  "language_info": {
   "codemirror_mode": {
    "name": "ipython",
    "version": 3
   },
   "file_extension": ".py",
   "mimetype": "text/x-python",
   "name": "python",
   "nbconvert_exporter": "python",
   "pygments_lexer": "ipython3",
   "version": "3.10.8"
  }
 },
 "nbformat": 4,
 "nbformat_minor": 5
}
